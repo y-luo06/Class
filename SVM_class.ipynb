{
 "cells": [
  {
   "cell_type": "code",
   "execution_count": null,
   "id": "b9bc2d62-4971-474a-8a46-1cd110234817",
   "metadata": {},
   "outputs": [],
   "source": [
    "import numpy as np\n",
    "import matplotlib.pyplot as plt\n",
    "from sklearn.svm import SVC\n",
    "from sklearn.datasets import make_blobs\n",
    "from sklearn.datasets import make_circles"
   ]
  },
  {
   "cell_type": "code",
   "execution_count": null,
   "id": "6a6e7fee-752a-4b4e-9515-c8042de2b9e0",
   "metadata": {},
   "outputs": [],
   "source": [
    "# Problem 1:\n",
    "\n",
    "# Generate isotropic Gaussian blobs for clustering: X has 2 dim (X1, X2); y has 2 classes (0,1)\n",
    "X, y = make_blobs(n_samples=100, centers=2, random_state=6, cluster_std=1.5)\n",
    "\n",
    "# Plot the data\n",
    "plt.scatter(X[:, 0], X[:, 1], c=y, cmap='coolwarm', s=50)"
   ]
  },
  {
   "cell_type": "markdown",
   "id": "32f31bb7-9e4e-40e5-9804-57126504a98c",
   "metadata": {},
   "source": [
    "## How would you like to find a plane to seperate the 2 classes? Think about it for a moment."
   ]
  },
  {
   "cell_type": "code",
   "execution_count": null,
   "id": "06d45d22-7975-49d6-8755-fee273a09b0b",
   "metadata": {},
   "outputs": [],
   "source": [
    "# Train a maximal margin classifier\n",
    "maximal_margin_model = SVC(kernel='linear', C=1e6)  # <--- Attention to \"C\"!!\n",
    "maximal_margin_model.fit(X, y)\n",
    "\n",
    "# Train a support vector classifier SVC (soft margin, linear)\n",
    "SVC_model = SVC(kernel='linear', C=0.1)  # <--- Attention to \"C\"!!; Attention to \"kernel\"!! \n",
    "SVC_model.fit(X, y)\n",
    "\n",
    "\n",
    "# Plot the data\n",
    "plt.figure(figsize=(12, 6))\n",
    "\n",
    "# Maximal margin classifier plot\n",
    "plt.subplot(1, 2, 1) # (nrows, ncols, index)\n",
    "plt.scatter(X[:, 0], X[:, 1], c=y, cmap='coolwarm', s=50)\n",
    "plt.title(\"Maximal Margin Classifier\")\n",
    "ax = plt.gca() # Get the current axes\n",
    "xlim = ax.get_xlim()\n",
    "ylim = ax.get_ylim()\n",
    "xx, yy = np.meshgrid(np.linspace(xlim[0], xlim[1], 50),\n",
    "                     np.linspace(ylim[0], ylim[1], 50))\n",
    "Z = maximal_margin_model.decision_function(np.c_[xx.ravel(), yy.ravel()])\n",
    "Z = Z.reshape(xx.shape)\n",
    "plt.contour(xx, yy, Z, levels=[0], linewidths=2, colors='k')  # Decision boundary\n",
    "plt.contour(xx, yy, Z, levels=[-1, 1], linestyles=['--', '--'], colors='gray')  # Margins\n",
    "plt.scatter(maximal_margin_model.support_vectors_[:, 0], \n",
    "            maximal_margin_model.support_vectors_[:, 1],\n",
    "            s=100, facecolors='none', edgecolors='k', label='Support Vectors') # Support vectors\n",
    "plt.legend()\n",
    "\n",
    "# SVC plot\n",
    "plt.subplot(1, 2, 2) # (nrows, ncols, index)\n",
    "plt.scatter(X[:, 0], X[:, 1], c=y, cmap='coolwarm', s=50)\n",
    "plt.title(\"SVC\")\n",
    "ax = plt.gca()\n",
    "xlim = ax.get_xlim()\n",
    "ylim = ax.get_ylim()\n",
    "xx, yy = np.meshgrid(np.linspace(xlim[0], xlim[1], 50),\n",
    "                     np.linspace(ylim[0], ylim[1], 50))\n",
    "Z = SVC_model.decision_function(np.c_[xx.ravel(), yy.ravel()])\n",
    "Z = Z.reshape(xx.shape)\n",
    "plt.contour(xx, yy, Z, levels=[0], linewidths=2, colors='k')  # Decision boundary\n",
    "plt.contour(xx, yy, Z, levels=[-1, 1], linestyles=['--', '--'], colors='gray')  # Margins\n",
    "plt.scatter(SVC_model.support_vectors_[:, 0], \n",
    "            SVC_model.support_vectors_[:, 1],\n",
    "            s=100, facecolors='none', edgecolors='k', label='Support Vectors') # Support vectors\n",
    "plt.legend()\n",
    "\n",
    "# What are differences between the above 2 models?\n",
    "# Explore other models by changing some parameters.\n",
    "\n",
    "plt.tight_layout()\n",
    "plt.show()"
   ]
  },
  {
   "cell_type": "code",
   "execution_count": null,
   "id": "5f9ed5a4-f2c0-402b-8b9d-283e4ab94ee4",
   "metadata": {},
   "outputs": [],
   "source": [
    "# Problem 2:\n",
    "\n",
    "# Generate synthetic circular data\n",
    "X, y = make_circles(n_samples=100, factor=0.5, noise=0.1)\n",
    "\n",
    "# Plot the data\n",
    "plt.scatter(X[:, 0], X[:, 1], c=y, cmap='coolwarm', s=50)"
   ]
  },
  {
   "cell_type": "markdown",
   "id": "64c245af-4111-4bd5-976c-f98244753982",
   "metadata": {},
   "source": [
    "## How would you like to find a plane to seperate the 2 classes? Think about it for a moment.\n",
    "\n",
    "## Please try the solve the problem by using the following models:\n",
    "## (1) SVC (linear)\n",
    "## (2) SVM with different kernel functions"
   ]
  }
 ],
 "metadata": {
  "kernelspec": {
   "display_name": "Python 3 (ipykernel)",
   "language": "python",
   "name": "python3"
  },
  "language_info": {
   "codemirror_mode": {
    "name": "ipython",
    "version": 3
   },
   "file_extension": ".py",
   "mimetype": "text/x-python",
   "name": "python",
   "nbconvert_exporter": "python",
   "pygments_lexer": "ipython3",
   "version": "3.12.4"
  }
 },
 "nbformat": 4,
 "nbformat_minor": 5
}
